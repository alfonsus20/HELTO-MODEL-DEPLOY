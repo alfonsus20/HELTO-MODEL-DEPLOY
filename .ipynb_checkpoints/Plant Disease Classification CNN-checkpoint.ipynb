{
 "cells": [
  {
   "cell_type": "markdown",
   "id": "c43893e4",
   "metadata": {},
   "source": [
    "# Plant Disease Classification\n",
    "## By BCC_Overwork\n",
    "\n",
    "### Anggota:\n",
    "- Alfonsus Avianto Chandrawan\n",
    "- Anatasia Griselda Ferina Budiargo\n",
    "- Femi Novia Lina"
   ]
  },
  {
   "cell_type": "markdown",
   "id": "69d9df08",
   "metadata": {},
   "source": [
    "### Import Libraries"
   ]
  },
  {
   "cell_type": "code",
   "execution_count": 108,
   "id": "ae8e6b34",
   "metadata": {},
   "outputs": [],
   "source": [
    "import os\n",
    "import matplotlib.pyplot as plt\n",
    "import splitfolders\n",
    "import numpy as np\n",
    "import tensorflow as tf\n",
    "from PIL import Image\n",
    "from keras.preprocessing.image import ImageDataGenerator"
   ]
  },
  {
   "cell_type": "markdown",
   "id": "8de9caa8",
   "metadata": {},
   "source": [
    "### Data Collection\n",
    "Dataset diperoleh dari website [kaggle](https://kaggle.com). Link untuk memperoleh dataset dapat diakses melalui tautan [ini](https://www.kaggle.com/code/saisravanmedicherla/plant-diesease-classification-with-inception/data). Pada kesempatan kali ini, kami hanya menggunakan dataset untuk tanaman kentang dikarenakan fokus dan tujuan aplikasi kami yaitu untuk mengklasifikasikan inputan gambar daun kentang nanti menjadi beberapa kategori sesuai dengan jenis penyakit tanaman kentang yang ada."
   ]
  },
  {
   "cell_type": "markdown",
   "id": "c97dadab",
   "metadata": {},
   "source": [
    "### Pemisahan Data Training dan Data Validation"
   ]
  },
  {
   "cell_type": "code",
   "execution_count": 109,
   "id": "04b8bfd4",
   "metadata": {
    "scrolled": true
   },
   "outputs": [
    {
     "name": "stderr",
     "output_type": "stream",
     "text": [
      "Copying files: 2152 files [00:09, 221.86 files/s]\n"
     ]
    }
   ],
   "source": [
    "splitfolders.ratio(\"data\", output=\"data_splitted\", seed=11, ratio=(.8, .2))"
   ]
  },
  {
   "cell_type": "markdown",
   "id": "6eb5097f",
   "metadata": {},
   "source": [
    "### Exploratory Data Analysis\n",
    "Tahapan ini bertujuan untuk menggali informasi terkait dataset yang akan digunakan"
   ]
  },
  {
   "cell_type": "code",
   "execution_count": 110,
   "id": "03d20b67",
   "metadata": {},
   "outputs": [],
   "source": [
    "list_dir = os.listdir(\"data_splitted/train\")"
   ]
  },
  {
   "cell_type": "code",
   "execution_count": 111,
   "id": "8419cd7b",
   "metadata": {},
   "outputs": [],
   "source": [
    "dic = {}\n",
    "dic_dimensions = {}\n",
    "\n",
    "for _dir in list_dir:\n",
    "    path = \"data_splitted/train/\" + _dir\n",
    "    list_file = os.listdir(path)\n",
    "    dic[_dir] = len(list_file)\n",
    "    dimension_list = []\n",
    "    for _file in list_file:\n",
    "        h,w = Image.open(os.path.join(path,_file)).size\n",
    "        dimension_list.append([h,w])\n",
    "    dic_dimensions[_dir] = np.unique(dimension_list, axis=0)"
   ]
  },
  {
   "cell_type": "code",
   "execution_count": 112,
   "id": "03e70498",
   "metadata": {},
   "outputs": [
    {
     "data": {
      "text/plain": [
       "{'early_blight': array([[256, 256]]),\n",
       " 'healthy': array([[256, 256]]),\n",
       " 'late_blight': array([[256, 256]])}"
      ]
     },
     "execution_count": 112,
     "metadata": {},
     "output_type": "execute_result"
    }
   ],
   "source": [
    "dic_dimensions"
   ]
  },
  {
   "cell_type": "markdown",
   "id": "f42cc861",
   "metadata": {},
   "source": [
    "Semua image untuk masing-masing berukuran sama yaitu **256x256**"
   ]
  },
  {
   "cell_type": "code",
   "execution_count": 113,
   "id": "d4db478b",
   "metadata": {},
   "outputs": [
    {
     "data": {
      "image/png": "[encoded data removed]",
      "text/plain": [
       "<Figure size 432x288 with 1 Axes>"
      ]
     },
     "metadata": {
      "needs_background": "light"
     },
     "output_type": "display_data"
    }
   ],
   "source": [
    "plt.bar(dic.keys(), dic.values())\n",
    "plt.title(\"Banyak Data untuk Setiap Kelas\")\n",
    "plt.show()"
   ]
  },
  {
   "cell_type": "markdown",
   "id": "dae0d866",
   "metadata": {},
   "source": [
    "Dapat ditarik kesimpulan bahwa terdapat ketidakseimbangan data."
   ]
  },
  {
   "cell_type": "markdown",
   "id": "8401dcc0",
   "metadata": {},
   "source": [
    "### Data Preprocessing\n",
    "Data kemudian akan dipersiapkan pada tahap ini. Masalah yang akan diselesaikan yaitu masalah ketidakseimbangan pada data"
   ]
  },
  {
   "cell_type": "code",
   "execution_count": 114,
   "id": "901c7ca5",
   "metadata": {},
   "outputs": [
    {
     "name": "stdout",
     "output_type": "stream",
     "text": [
      "Found 1721 images belonging to 3 classes.\n",
      "Found 431 images belonging to 3 classes.\n"
     ]
    }
   ],
   "source": [
    "train_datagen = ImageDataGenerator(\n",
    "        rescale=1./255,\n",
    "        shear_range=0.2,\n",
    "        zoom_range=0.2,\n",
    "        horizontal_flip=True)\n",
    "\n",
    "y_col = dic.keys()\n",
    "\n",
    "test_datagen = ImageDataGenerator(rescale=1./255)\n",
    "\n",
    "train_generator = train_datagen.flow_from_directory(\n",
    "        'data_splitted/train',\n",
    "        class_mode='categorical')\n",
    "\n",
    "validation_generator = test_datagen.flow_from_directory(\n",
    "        'data_splitted/val',\n",
    "        class_mode='categorical')"
   ]
  },
  {
   "cell_type": "markdown",
   "id": "c377e991",
   "metadata": {},
   "source": [
    "### Build Model"
   ]
  },
  {
   "cell_type": "code",
   "execution_count": 115,
   "id": "20fe7ed5",
   "metadata": {},
   "outputs": [],
   "source": [
    "cnn = tf.keras.models.Sequential([\n",
    "    tf.keras.layers.Conv2D(filters=32, kernel_size=(3,3), activation='relu', input_shape=[256, 256, 3]),\n",
    "    tf.keras.layers.MaxPooling2D(2,2),\n",
    "    tf.keras.layers.Conv2D(filters=64, kernel_size=(3,3), activation='relu'),\n",
    "    tf.keras.layers.MaxPooling2D(2,2),\n",
    "    tf.keras.layers.Flatten(),\n",
    "    tf.keras.layers.Dense(64, activation='relu'),\n",
    "    tf.keras.layers.Dense(3, activation='softmax')\n",
    "])"
   ]
  },
  {
   "cell_type": "code",
   "execution_count": 116,
   "id": "96e9aede",
   "metadata": {},
   "outputs": [],
   "source": [
    "cnn.compile(optimizer = 'adam', loss = 'categorical_crossentropy', metrics = ['accuracy'])"
   ]
  },
  {
   "cell_type": "code",
   "execution_count": 117,
   "id": "89e06afd",
   "metadata": {},
   "outputs": [
    {
     "name": "stdout",
     "output_type": "stream",
     "text": [
      "Model: \"sequential_17\"\n",
      "_________________________________________________________________\n",
      " Layer (type)                Output Shape              Param #   \n",
      "=================================================================\n",
      " conv2d_34 (Conv2D)          (None, 254, 254, 32)      896       \n",
      "                                                                 \n",
      " max_pooling2d_34 (MaxPoolin  (None, 127, 127, 32)     0         \n",
      " g2D)                                                            \n",
      "                                                                 \n",
      " conv2d_35 (Conv2D)          (None, 125, 125, 64)      18496     \n",
      "                                                                 \n",
      " max_pooling2d_35 (MaxPoolin  (None, 62, 62, 64)       0         \n",
      " g2D)                                                            \n",
      "                                                                 \n",
      " flatten_17 (Flatten)        (None, 246016)            0         \n",
      "                                                                 \n",
      " dense_34 (Dense)            (None, 64)                15745088  \n",
      "                                                                 \n",
      " dense_35 (Dense)            (None, 3)                 195       \n",
      "                                                                 \n",
      "=================================================================\n",
      "Total params: 15,764,675\n",
      "Trainable params: 15,764,675\n",
      "Non-trainable params: 0\n",
      "_________________________________________________________________\n"
     ]
    }
   ],
   "source": [
    "cnn.summary()"
   ]
  },
  {
   "cell_type": "code",
   "execution_count": null,
   "id": "f6bfc609",
   "metadata": {
    "scrolled": true
   },
   "outputs": [
    {
     "name": "stdout",
     "output_type": "stream",
     "text": [
      "Epoch 1/25\n",
      "54/54 [==============================] - 142s 3s/step - loss: 1.6689 - accuracy: 0.6020 - val_loss: 0.4691 - val_accuracy: 0.8190\n",
      "Epoch 2/25\n",
      "54/54 [==============================] - 119s 2s/step - loss: 0.4055 - accuracy: 0.8390 - val_loss: 0.2828 - val_accuracy: 0.9026\n",
      "Epoch 3/25\n",
      "46/54 [========================>.....] - ETA: 19s - loss: 0.2890 - accuracy: 0.8969"
     ]
    }
   ],
   "source": [
    "hist = cnn.fit(x = train_generator, validation_data = validation_generator, epochs = 25)"
   ]
  },
  {
   "cell_type": "code",
   "execution_count": null,
   "id": "cb5b676a",
   "metadata": {},
   "outputs": [],
   "source": [
    "hist.history['loss']"
   ]
  },
  {
   "cell_type": "code",
   "execution_count": null,
   "id": "13b704ad",
   "metadata": {},
   "outputs": [],
   "source": [
    "hist.history.keys()"
   ]
  },
  {
   "cell_type": "code",
   "execution_count": null,
   "id": "e732f7df",
   "metadata": {},
   "outputs": [],
   "source": [
    "plt.plot(hist.history['accuracy'])\n",
    "plt.plot(hist.history['val_accuracy'])\n",
    "plt.title('Model Accuracy')\n",
    "plt.ylabel('accuracy')\n",
    "plt.xlabel('epoch')\n",
    "plt.legend(['train', 'val'], loc='upper left')\n",
    "plt.show()"
   ]
  },
  {
   "cell_type": "code",
   "execution_count": null,
   "id": "c7389cc5",
   "metadata": {},
   "outputs": [],
   "source": [
    "plt.plot(hist.history['loss'])\n",
    "plt.plot(hist.history['val_loss'])\n",
    "plt.title('Model Loss')\n",
    "plt.ylabel('loss')\n",
    "plt.xlabel('epoch')\n",
    "plt.legend(['train', 'val'], loc='upper left')\n",
    "plt.show()"
   ]
  },
  {
   "cell_type": "code",
   "execution_count": null,
   "id": "245f2725",
   "metadata": {},
   "outputs": [],
   "source": [
    "import numpy as np\n",
    "from keras.preprocessing import image\n",
    "test_image = image.load_img('data_splitted/val/healthy/b9ea902d-e557-4fa5-893b-39a7a57c0121___RS_HL 1893.JPG')\n",
    "test_image = image.img_to_array(test_image)\n",
    "test_image = np.expand_dims(test_image, axis = 0)\n",
    "result = cnn.predict(test_image)\n",
    "class_indices = train_generator.class_indices"
   ]
  },
  {
   "cell_type": "code",
   "execution_count": null,
   "id": "ecc56104",
   "metadata": {},
   "outputs": [],
   "source": [
    "class_indices"
   ]
  },
  {
   "cell_type": "code",
   "execution_count": null,
   "id": "c10c9362",
   "metadata": {},
   "outputs": [],
   "source": [
    "if result[0][0] == 1:\n",
    "    prediction = 'early_blight'\n",
    "elif result[0][1] == 1:\n",
    "    prediction = 'healthy'\n",
    "else:\n",
    "    prediction = 'late_blight'"
   ]
  },
  {
   "cell_type": "code",
   "execution_count": null,
   "id": "ee2d5cd9",
   "metadata": {},
   "outputs": [],
   "source": [
    "prediction"
   ]
  },
  {
   "cell_type": "markdown",
   "id": "5fbabc39",
   "metadata": {},
   "source": [
    "### Convert to H5 Format"
   ]
  },
  {
   "cell_type": "code",
   "execution_count": null,
   "id": "8fdd3cf2",
   "metadata": {},
   "outputs": [],
   "source": [
    "cnn.save('model.h5')"
   ]
  }
 ],
 "metadata": {
  "kernelspec": {
   "display_name": "Python 3",
   "language": "python",
   "name": "python3"
  },
  "language_info": {
   "codemirror_mode": {
    "name": "ipython",
    "version": 3
   },
   "file_extension": ".py",
   "mimetype": "text/x-python",
   "name": "python",
   "nbconvert_exporter": "python",
   "pygments_lexer": "ipython3",
   "version": "3.8.8"
  }
 },
 "nbformat": 4,
 "nbformat_minor": 5
}
